{
  "nbformat": 4,
  "nbformat_minor": 0,
  "metadata": {
    "colab": {
      "provenance": []
    },
    "kernelspec": {
      "name": "python3",
      "display_name": "Python 3"
    },
    "language_info": {
      "name": "python"
    }
  },
  "cells": [
    {
      "cell_type": "markdown",
      "source": [
        " Import necessary **libraries**\n",
        "\n"
      ],
      "metadata": {
        "id": "4mWOC2HSKObb"
      }
    },
    {
      "cell_type": "code",
      "source": [
        "import pandas as pd\n",
        "import numpy as np\n",
        "from sklearn.preprocessing import StandardScaler\n",
        "from sklearn.metrics.pairwise import cosine_similarity"
      ],
      "metadata": {
        "id": "cZzSC02_KjFj"
      },
      "execution_count": 33,
      "outputs": []
    },
    {
      "cell_type": "markdown",
      "source": [
        "load the **datasets**"
      ],
      "metadata": {
        "id": "JSChO5n5KlD2"
      }
    },
    {
      "cell_type": "code",
      "source": [
        "\n",
        "customers = pd.read_csv(\"/content/drive/MyDrive/Zeotap/Customers.csv\")\n",
        "products = pd.read_csv(\"/content/drive/MyDrive/Zeotap/Products.csv\")\n",
        "transactions = pd.read_csv(\"/content/drive/MyDrive/Zeotap/Transactions.csv\")"
      ],
      "metadata": {
        "id": "fZ7nBplTKpkm"
      },
      "execution_count": 34,
      "outputs": []
    },
    {
      "cell_type": "markdown",
      "source": [
        "Merge **Dataset**"
      ],
      "metadata": {
        "id": "Lz5gtAV4Kwnw"
      }
    },
    {
      "cell_type": "code",
      "source": [
        "transactions = transactions.merge(customers, on='CustomerID', how='left')\n",
        "transactions = transactions.merge(products, on='ProductID', how='left')"
      ],
      "metadata": {
        "id": "foNWnu6hKtla"
      },
      "execution_count": 35,
      "outputs": []
    },
    {
      "cell_type": "code",
      "source": [
        "transactions.rename(columns={\n",
        "    'Price_x': 'TransactionPrice',  # Price from Transactions.csv\n",
        "    'Price_y': 'ProductBasePrice'   # Price from Products.csv\n",
        "}, inplace=True)"
      ],
      "metadata": {
        "id": "yJAsrrKhPdzv"
      },
      "execution_count": 36,
      "outputs": []
    },
    {
      "cell_type": "markdown",
      "source": [
        "Feature engineering for **Customers**"
      ],
      "metadata": {
        "id": "qk5FkLGgLJD5"
      }
    },
    {
      "cell_type": "code",
      "source": [
        "customer_features = transactions.groupby('CustomerID').agg({\n",
        "    'TotalValue': 'sum',  # Total spending by customer\n",
        "    'Quantity': 'sum',    # Total quantity purchased\n",
        "    'TransactionPrice': 'mean',  # Average transaction price\n",
        "    'Category': lambda x: x.mode()[0] if len(x.mode()) > 0 else 'Unknown'  # Most purchased category\n",
        "}).reset_index()"
      ],
      "metadata": {
        "id": "ndUN-atdLK4V"
      },
      "execution_count": 37,
      "outputs": []
    },
    {
      "cell_type": "markdown",
      "source": [
        "Encode categorical **features**"
      ],
      "metadata": {
        "id": "_fzntNqFLVc7"
      }
    },
    {
      "cell_type": "code",
      "source": [
        "customer_features = pd.get_dummies(customer_features, columns=['Category'], drop_first=True)"
      ],
      "metadata": {
        "id": "kx6q0RrrLOwZ"
      },
      "execution_count": 38,
      "outputs": []
    },
    {
      "cell_type": "markdown",
      "source": [
        "Standardize numerical features"
      ],
      "metadata": {
        "id": "RiKdL60_Lpjk"
      }
    },
    {
      "cell_type": "code",
      "source": [
        "scaler = StandardScaler()\n",
        "numerical_columns = ['TotalValue', 'Quantity', 'TransactionPrice']\n",
        "customer_features[numerical_columns] = scaler.fit_transform(customer_features[numerical_columns])"
      ],
      "metadata": {
        "id": "4p0jQTJuLOs8"
      },
      "execution_count": 39,
      "outputs": []
    },
    {
      "cell_type": "markdown",
      "source": [
        "Compute similarity matrix"
      ],
      "metadata": {
        "id": "uXdyVQd_Lqk_"
      }
    },
    {
      "cell_type": "code",
      "source": [
        "customer_ids = customer_features['CustomerID']\n",
        "customer_features_matrix = customer_features.drop('CustomerID', axis=1)\n",
        "similarity_matrix = cosine_similarity(customer_features_matrix)\n"
      ],
      "metadata": {
        "id": "BeuulHMKLOqQ"
      },
      "execution_count": 40,
      "outputs": []
    },
    {
      "cell_type": "markdown",
      "source": [
        "Generate lookalike recommendations (TOP 3)"
      ],
      "metadata": {
        "id": "Z8dYjDf6LwOH"
      }
    },
    {
      "cell_type": "code",
      "source": [
        "lookalike_map = {}\n",
        "for i, customer_id in enumerate(customer_ids):\n",
        "\n",
        "    similarity_scores = list(enumerate(similarity_matrix[i]))\n",
        "\n",
        "    similarity_scores = sorted([(customer_ids[j], score) for j, score in similarity_scores if j != i],\n",
        "                                key=lambda x: x[1], reverse=True)\n",
        "\n",
        "    top_3_lookalikes = similarity_scores[:3]\n",
        "    lookalike_map[customer_id] = top_3_lookalikes"
      ],
      "metadata": {
        "id": "qyqM13dSLOnT"
      },
      "execution_count": 41,
      "outputs": []
    },
    {
      "cell_type": "markdown",
      "source": [
        "Filter results for the first 20 customers"
      ],
      "metadata": {
        "id": "KonLRqZtLxKh"
      }
    },
    {
      "cell_type": "code",
      "source": [
        "filtered_lookalike_map = {cust_id: lookalike_map[cust_id] for cust_id in customer_ids if cust_id in [f'C{str(i).zfill(4)}' for i in range(1, 21)]}\n",
        "\n",
        "lookalike_df = pd.DataFrame([\n",
        "    {'CustomerID': cust_id, 'Lookalikes': str(lookalike_map)}\n",
        "    for cust_id, lookalike_map in filtered_lookalike_map.items()\n",
        "])\n",
        "lookalike_df.to_csv(\"Lookalike.csv\", index=False)"
      ],
      "metadata": {
        "id": "itCPw000LOkq"
      },
      "execution_count": 42,
      "outputs": []
    }
  ]
}